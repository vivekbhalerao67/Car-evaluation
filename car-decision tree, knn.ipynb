{
 "cells": [
  {
   "cell_type": "code",
   "execution_count": 32,
   "metadata": {},
   "outputs": [],
   "source": [
    "import pandas as pd\n",
    "import seaborn as sns\n",
    "import matplotlib.pyplot as plt\n",
    "import numpy as np\n",
    "from pandas import DataFrame\n",
    "from sklearn.model_selection import train_test_split\n",
    "from sklearn.metrics import confusion_matrix\n",
    "from tqdm import tqdm\n",
    "from sklearn import metrics\n",
    "from sklearn.tree import DecisionTreeClassifier\n",
    "from sklearn.neighbors import KNeighborsClassifier"
   ]
  },
  {
   "cell_type": "code",
   "execution_count": 2,
   "metadata": {},
   "outputs": [],
   "source": [
    "dataset=pd.read_csv(\"carpreprocess.csv\")"
   ]
  },
  {
   "cell_type": "code",
   "execution_count": 3,
   "metadata": {},
   "outputs": [],
   "source": [
    "data=dataset\n",
    "y=data['decision']\n",
    "X=data.drop(['decision'],axis=1)"
   ]
  },
  {
   "cell_type": "code",
   "execution_count": 4,
   "metadata": {},
   "outputs": [],
   "source": [
    "X_train, X_test, y_train, y_test = train_test_split(\n",
    "...     X, y, test_size=0.2, random_state=42)"
   ]
  },
  {
   "cell_type": "code",
   "execution_count": 5,
   "metadata": {},
   "outputs": [
    {
     "data": {
      "text/html": [
       "<div>\n",
       "<style scoped>\n",
       "    .dataframe tbody tr th:only-of-type {\n",
       "        vertical-align: middle;\n",
       "    }\n",
       "\n",
       "    .dataframe tbody tr th {\n",
       "        vertical-align: top;\n",
       "    }\n",
       "\n",
       "    .dataframe thead th {\n",
       "        text-align: right;\n",
       "    }\n",
       "</style>\n",
       "<table border=\"1\" class=\"dataframe\">\n",
       "  <thead>\n",
       "    <tr style=\"text-align: right;\">\n",
       "      <th></th>\n",
       "      <th>Unnamed: 0</th>\n",
       "      <th>buy_price</th>\n",
       "      <th>maintain_cost</th>\n",
       "      <th>door</th>\n",
       "      <th>persons</th>\n",
       "      <th>luggage_boot</th>\n",
       "      <th>safety</th>\n",
       "    </tr>\n",
       "  </thead>\n",
       "  <tbody>\n",
       "    <tr>\n",
       "      <th>599</th>\n",
       "      <td>599</td>\n",
       "      <td>3</td>\n",
       "      <td>3</td>\n",
       "      <td>4</td>\n",
       "      <td>2</td>\n",
       "      <td>3</td>\n",
       "      <td>1</td>\n",
       "    </tr>\n",
       "    <tr>\n",
       "      <th>932</th>\n",
       "      <td>932</td>\n",
       "      <td>2</td>\n",
       "      <td>4</td>\n",
       "      <td>4</td>\n",
       "      <td>4</td>\n",
       "      <td>3</td>\n",
       "      <td>1</td>\n",
       "    </tr>\n",
       "    <tr>\n",
       "      <th>628</th>\n",
       "      <td>628</td>\n",
       "      <td>3</td>\n",
       "      <td>3</td>\n",
       "      <td>6</td>\n",
       "      <td>2</td>\n",
       "      <td>3</td>\n",
       "      <td>3</td>\n",
       "    </tr>\n",
       "    <tr>\n",
       "      <th>1497</th>\n",
       "      <td>1497</td>\n",
       "      <td>1</td>\n",
       "      <td>3</td>\n",
       "      <td>6</td>\n",
       "      <td>4</td>\n",
       "      <td>2</td>\n",
       "      <td>2</td>\n",
       "    </tr>\n",
       "    <tr>\n",
       "      <th>1262</th>\n",
       "      <td>1262</td>\n",
       "      <td>2</td>\n",
       "      <td>1</td>\n",
       "      <td>4</td>\n",
       "      <td>6</td>\n",
       "      <td>2</td>\n",
       "      <td>1</td>\n",
       "    </tr>\n",
       "  </tbody>\n",
       "</table>\n",
       "</div>"
      ],
      "text/plain": [
       "      Unnamed: 0  buy_price  maintain_cost  door  persons  luggage_boot  \\\n",
       "599          599          3              3     4        2             3   \n",
       "932          932          2              4     4        4             3   \n",
       "628          628          3              3     6        2             3   \n",
       "1497        1497          1              3     6        4             2   \n",
       "1262        1262          2              1     4        6             2   \n",
       "\n",
       "      safety  \n",
       "599        1  \n",
       "932        1  \n",
       "628        3  \n",
       "1497       2  \n",
       "1262       1  "
      ]
     },
     "execution_count": 5,
     "metadata": {},
     "output_type": "execute_result"
    }
   ],
   "source": [
    "X_test.head()"
   ]
  },
  {
   "cell_type": "code",
   "execution_count": 6,
   "metadata": {},
   "outputs": [
    {
     "name": "stdout",
     "output_type": "stream",
     "text": [
      "<class 'pandas.core.frame.DataFrame'>\n",
      "Int64Index: 1381 entries, 107 to 1126\n",
      "Data columns (total 7 columns):\n",
      " #   Column         Non-Null Count  Dtype\n",
      "---  ------         --------------  -----\n",
      " 0   Unnamed: 0     1381 non-null   int64\n",
      " 1   buy_price      1381 non-null   int64\n",
      " 2   maintain_cost  1381 non-null   int64\n",
      " 3   door           1381 non-null   int64\n",
      " 4   persons        1381 non-null   int64\n",
      " 5   luggage_boot   1381 non-null   int64\n",
      " 6   safety         1381 non-null   int64\n",
      "dtypes: int64(7)\n",
      "memory usage: 86.3 KB\n"
     ]
    }
   ],
   "source": [
    "X_train.info()"
   ]
  },
  {
   "cell_type": "code",
   "execution_count": 7,
   "metadata": {},
   "outputs": [
    {
     "data": {
      "text/plain": [
       "599     0\n",
       "932     0\n",
       "628     0\n",
       "1497    1\n",
       "1262    0\n",
       "Name: decision, dtype: int64"
      ]
     },
     "execution_count": 7,
     "metadata": {},
     "output_type": "execute_result"
    }
   ],
   "source": [
    "y_test.head()"
   ]
  },
  {
   "cell_type": "code",
   "execution_count": 8,
   "metadata": {},
   "outputs": [
    {
     "data": {
      "text/plain": [
       "107     0\n",
       "900     0\n",
       "1708    0\n",
       "705     0\n",
       "678     0\n",
       "Name: decision, dtype: int64"
      ]
     },
     "execution_count": 8,
     "metadata": {},
     "output_type": "execute_result"
    }
   ],
   "source": [
    "y_train.head()"
   ]
  },
  {
   "cell_type": "markdown",
   "metadata": {},
   "source": [
    "# Decision Tree classifier"
   ]
  },
  {
   "cell_type": "markdown",
   "metadata": {},
   "source": [
    "## Finding the hyper-parameter value"
   ]
  },
  {
   "cell_type": "code",
   "execution_count": 9,
   "metadata": {},
   "outputs": [
    {
     "name": "stderr",
     "output_type": "stream",
     "text": [
      "100%|█████████████████████████████████████████████████████████████████████████████████| 29/29 [00:00<00:00, 309.25it/s]\n"
     ]
    }
   ],
   "source": [
    "dtaccu=[]\n",
    "for depth in tqdm(range(1,30)):\n",
    "    dtree=DecisionTreeClassifier(max_depth=depth)\n",
    "    dtree.fit(X_train, y_train)\n",
    "    treepred=dtree.predict(X_test)\n",
    "    y=metrics.accuracy_score(y_test, treepred)\n",
    "    dtaccu.append(y)"
   ]
  },
  {
   "cell_type": "code",
   "execution_count": 10,
   "metadata": {},
   "outputs": [
    {
     "name": "stdout",
     "output_type": "stream",
     "text": [
      "[0.684971098265896, 0.7803468208092486, 0.8352601156069365, 0.8439306358381503, 0.8439306358381503, 0.8872832369942196, 0.8901734104046243, 0.9479768786127167, 0.9566473988439307, 0.9595375722543352, 0.9710982658959537, 0.976878612716763, 0.9739884393063584, 0.9710982658959537, 0.976878612716763, 0.9710982658959537, 0.9710982658959537, 0.9710982658959537, 0.976878612716763, 0.9739884393063584, 0.976878612716763, 0.976878612716763, 0.976878612716763, 0.9710982658959537, 0.9739884393063584, 0.9739884393063584, 0.9710982658959537, 0.9710982658959537, 0.976878612716763]\n"
     ]
    },
    {
     "data": {
      "text/plain": [
       "0.976878612716763"
      ]
     },
     "execution_count": 10,
     "metadata": {},
     "output_type": "execute_result"
    }
   ],
   "source": [
    "maxdtaccu=max(dtaccu)\n",
    "print(dtaccu)\n",
    "maxdtaccu"
   ]
  },
  {
   "cell_type": "code",
   "execution_count": 11,
   "metadata": {},
   "outputs": [
    {
     "data": {
      "image/png": "[encoded data removed]",
      "text/plain": [
       "<Figure size 432x288 with 1 Axes>"
      ]
     },
     "metadata": {
      "needs_background": "light"
     },
     "output_type": "display_data"
    }
   ],
   "source": [
    "plt.plot(dtaccu)\n",
    "plt.xlabel('depth of tree')\n",
    "plt.ylabel('accuracy')\n",
    "plt.show()"
   ]
  },
  {
   "cell_type": "markdown",
   "metadata": {},
   "source": [
    "## Best parameter value is 12!"
   ]
  },
  {
   "cell_type": "code",
   "execution_count": 25,
   "metadata": {},
   "outputs": [],
   "source": [
    "dtreefinal=DecisionTreeClassifier(max_depth=12)\n",
    "dtreefinal.fit(X_train, y_train)\n",
    "treefinalpred=dtreefinal.predict(X_test)"
   ]
  },
  {
   "cell_type": "code",
   "execution_count": 26,
   "metadata": {},
   "outputs": [
    {
     "data": {
      "text/plain": [
       "0.9739884393063584"
      ]
     },
     "execution_count": 26,
     "metadata": {},
     "output_type": "execute_result"
    }
   ],
   "source": [
    "finaltreeacuuracy=metrics.accuracy_score(y_test, treefinalpred)\n",
    "finaltreeacuuracy"
   ]
  },
  {
   "cell_type": "code",
   "execution_count": 30,
   "metadata": {},
   "outputs": [
    {
     "data": {
      "text/plain": [
       "array([[236,   1,   0,   0],\n",
       "       [  1,  74,   1,   1],\n",
       "       [  0,   2,  12,   1],\n",
       "       [  0,   0,   2,  15]], dtype=int64)"
      ]
     },
     "execution_count": 30,
     "metadata": {},
     "output_type": "execute_result"
    }
   ],
   "source": [
    "ytreepre=pd.DataFrame(data=treefinalpred,columns=['pred'])\n",
    "yact=pd.DataFrame(data=y_test)\n",
    "yact.index=range(0,346)\n",
    "ytreetotal=pd.concat([yact,ytreepre],axis=1)\n",
    "confutree=confusion_matrix(ytreetotal['decision'],ytreetotal['pred'])\n",
    "confutree"
   ]
  },
  {
   "cell_type": "code",
   "execution_count": 31,
   "metadata": {},
   "outputs": [
    {
     "data": {
      "image/png": "[encoded data removed]",
      "text/plain": [
       "<Figure size 432x288 with 2 Axes>"
      ]
     },
     "metadata": {
      "needs_background": "light"
     },
     "output_type": "display_data"
    }
   ],
   "source": [
    "sns.heatmap(confutree,annot=True,xticklabels=['actual_0','actual_1','actual_2', 'actual_3'],yticklabels=['predictded_0','predicted_1','predictded_2','predicted_3'])\n",
    "plt.show();"
   ]
  },
  {
   "cell_type": "markdown",
   "metadata": {},
   "source": [
    "# Karnough Nearest Neigbours classifier"
   ]
  },
  {
   "cell_type": "code",
   "execution_count": 33,
   "metadata": {},
   "outputs": [
    {
     "name": "stderr",
     "output_type": "stream",
     "text": [
      "100%|██████████████████████████████████████████████████████████████████████████████████| 29/29 [00:00<00:00, 66.30it/s]\n"
     ]
    }
   ],
   "source": [
    "knnaccu=[]\n",
    "for i in tqdm(range(1,30)):\n",
    "    knn=KNeighborsClassifier(n_neighbors=i)\n",
    "    knn.fit(X_train,y_train)\n",
    "    knnpre=knn.predict(X_test)\n",
    "    y=metrics.accuracy_score(y_test,knnpre)\n",
    "    knnaccu.append(y)"
   ]
  },
  {
   "cell_type": "code",
   "execution_count": 35,
   "metadata": {},
   "outputs": [
    {
     "name": "stdout",
     "output_type": "stream",
     "text": [
      "[0.6878612716763006, 0.638728323699422, 0.6878612716763006, 0.6589595375722543, 0.6878612716763006, 0.6763005780346821, 0.6791907514450867, 0.6502890173410405, 0.6820809248554913, 0.6647398843930635, 0.6878612716763006, 0.6763005780346821, 0.6820809248554913, 0.684971098265896, 0.6820809248554913, 0.6820809248554913, 0.6820809248554913, 0.684971098265896, 0.684971098265896, 0.684971098265896, 0.6820809248554913, 0.6820809248554913, 0.6820809248554913, 0.684971098265896, 0.684971098265896, 0.684971098265896, 0.6791907514450867, 0.684971098265896, 0.6820809248554913]\n"
     ]
    },
    {
     "data": {
      "text/plain": [
       "0.6878612716763006"
      ]
     },
     "execution_count": 35,
     "metadata": {},
     "output_type": "execute_result"
    }
   ],
   "source": [
    "maxknnaccu=max(knnaccu)\n",
    "print(knnaccu)\n",
    "maxknnaccu"
   ]
  },
  {
   "cell_type": "markdown",
   "metadata": {},
   "source": [
    "## Hyper-parameter value=5"
   ]
  },
  {
   "cell_type": "code",
   "execution_count": 36,
   "metadata": {},
   "outputs": [],
   "source": [
    "bestknn=KNeighborsClassifier(n_neighbors=5)\n",
    "yknnfinalpred=bestknn.fit(X_train,y_train).predict(X_test)"
   ]
  },
  {
   "cell_type": "code",
   "execution_count": 38,
   "metadata": {},
   "outputs": [
    {
     "data": {
      "text/plain": [
       "array([[207,  22,   8,   0],\n",
       "       [ 49,  28,   0,   0],\n",
       "       [ 10,   2,   3,   0],\n",
       "       [  7,   5,   5,   0]], dtype=int64)"
      ]
     },
     "execution_count": 38,
     "metadata": {},
     "output_type": "execute_result"
    }
   ],
   "source": [
    "yknnpre=pd.DataFrame(data=yknnfinalpred,columns=['pred'])\n",
    "yact=pd.DataFrame(data=y_test)\n",
    "yact.index=range(0,346)\n",
    "yknntotal=pd.concat([yact,yknnpre],axis=1)\n",
    "confuknn=confusion_matrix(yknntotal['decision'],yknntotal['pred'])\n",
    "confuknn"
   ]
  },
  {
   "cell_type": "code",
   "execution_count": 39,
   "metadata": {},
   "outputs": [
    {
     "data": {
      "image/png": "[encoded data removed]",
      "text/plain": [
       "<Figure size 432x288 with 2 Axes>"
      ]
     },
     "metadata": {
      "needs_background": "light"
     },
     "output_type": "display_data"
    }
   ],
   "source": [
    "sns.heatmap(confuknn,annot=True,xticklabels=['actual_0','actual_1','actual_2', 'actual_3'],yticklabels=['predictded_0','predicted_1','predictded_2','predicted_3'])\n",
    "plt.show();"
   ]
  },
  {
   "cell_type": "code",
   "execution_count": null,
   "metadata": {},
   "outputs": [],
   "source": []
  }
 ],
 "metadata": {
  "kernelspec": {
   "display_name": "Python 3",
   "language": "python",
   "name": "python3"
  },
  "language_info": {
   "codemirror_mode": {
    "name": "ipython",
    "version": 3
   },
   "file_extension": ".py",
   "mimetype": "text/x-python",
   "name": "python",
   "nbconvert_exporter": "python",
   "pygments_lexer": "ipython3",
   "version": "3.7.6"
  }
 },
 "nbformat": 4,
 "nbformat_minor": 4
}
